{
 "cells": [
  {
   "cell_type": "markdown",
   "metadata": {
    "id": "r6ASrmH-iwFI"
   },
   "source": [
    "# Sentiment analysis of women's clothes reviews\n",
    "\n",
    "## Part 4: Sentiment analysis by using Glove embeddings and LSTM.\n",
    "\n",
    "The aim of this project is sentiment analysis to determined whether the product is recommended or not based on a review as an input text. In this approach I have used a pre-trained Glove word embeddings model and Bidirectional LSTM Neural Network. \n",
    "\n",
    "The Bidirectional LSTMs are an extension of traditional LSTMs and used to ensure that information is passed backward and forward. They may be used on sequence classification problems. The idea of Bidirectional Recurrent Neural Networks (RNNs) is involves duplicating the first recurrent layer in the network so that there are now two layers side-by-side. Next providing the input sequence as input to the first layer and providing a reversed copy of the input sequence to the second.\n",
    "\n",
    "### Dataset\n",
    "\n",
    "The dataset comes from Woman Clothing Review that can be find at Kaggle. For this project I only used two variables: Review and Recommended.\n",
    "\n",
    "Attributes:\n",
    "- Review Text - customer review body.\n",
    "- Recommended IND - product customer recommendation where 1 is recommended, 0 is not recommended."
   ]
  },
  {
   "cell_type": "markdown",
   "metadata": {
    "id": "_T72QHczqZ3V"
   },
   "source": [
    "## Import libriaries and data"
   ]
  },
  {
   "cell_type": "code",
   "execution_count": 2,
   "metadata": {
    "id": "xZC7zkrEiwFX"
   },
   "outputs": [],
   "source": [
    "import pandas as pd\n",
    "import numpy as np\n",
    "import matplotlib.pyplot as plt\n",
    "import os\n",
    "import zipfile\n",
    "\n",
    "from sklearn.model_selection import train_test_split\n",
    "from sklearn.metrics import accuracy_score\n",
    "\n",
    "import tensorflow as tf\n",
    "from tensorflow.keras.preprocessing.text import Tokenizer\n",
    "from tensorflow.keras.preprocessing.sequence import pad_sequences\n",
    "from tensorflow.keras.layers import Embedding, LSTM, Dense, Bidirectional, Dropout\n",
    "from tensorflow.keras.models import Sequential\n",
    "from tensorflow.keras.callbacks import EarlyStopping"
   ]
  },
  {
   "cell_type": "markdown",
   "metadata": {
    "id": "kwCOxmiBzIip"
   },
   "source": [
    "First I download the pre-trained word embeddings:"
   ]
  },
  {
   "cell_type": "code",
   "execution_count": null,
   "metadata": {
    "colab": {
     "base_uri": "https://localhost:8080/"
    },
    "id": "hT2vsltvzFuu",
    "outputId": "00f48904-26a2-420d-b01c-7f73c9ebda71"
   },
   "outputs": [
    {
     "name": "stdout",
     "output_type": "stream",
     "text": [
      "--2021-04-22 13:39:53--  http://nlp.stanford.edu/data/glove.6B.zip\n",
      "Resolving nlp.stanford.edu (nlp.stanford.edu)... 171.64.67.140\n",
      "Connecting to nlp.stanford.edu (nlp.stanford.edu)|171.64.67.140|:80... connected.\n",
      "HTTP request sent, awaiting response... 302 Found\n",
      "Location: https://nlp.stanford.edu/data/glove.6B.zip [following]\n",
      "--2021-04-22 13:39:53--  https://nlp.stanford.edu/data/glove.6B.zip\n",
      "Connecting to nlp.stanford.edu (nlp.stanford.edu)|171.64.67.140|:443... connected.\n",
      "HTTP request sent, awaiting response... 301 Moved Permanently\n",
      "Location: http://downloads.cs.stanford.edu/nlp/data/glove.6B.zip [following]\n",
      "--2021-04-22 13:39:53--  http://downloads.cs.stanford.edu/nlp/data/glove.6B.zip\n",
      "Resolving downloads.cs.stanford.edu (downloads.cs.stanford.edu)... 171.64.64.22\n",
      "Connecting to downloads.cs.stanford.edu (downloads.cs.stanford.edu)|171.64.64.22|:80... connected.\n",
      "HTTP request sent, awaiting response... 200 OK\n",
      "Length: 862182613 (822M) [application/zip]\n",
      "Saving to: ‘/tmp/glove.6B.zip’\n",
      "\n",
      "/tmp/glove.6B.zip   100%[===================>] 822.24M  5.20MB/s    in 2m 40s  \n",
      "\n",
      "2021-04-22 13:42:33 (5.14 MB/s) - ‘/tmp/glove.6B.zip’ saved [862182613/862182613]\n",
      "\n"
     ]
    }
   ],
   "source": [
    "!wget --no-check-certificate \\\n",
    "    http://nlp.stanford.edu/data/glove.6B.zip \\\n",
    "    -O /tmp/glove.6B.zip"
   ]
  },
  {
   "cell_type": "markdown",
   "metadata": {
    "id": "2ev1KqBu6_Z3"
   },
   "source": [
    "Next I extract them into a temporary folder:"
   ]
  },
  {
   "cell_type": "code",
   "execution_count": null,
   "metadata": {
    "id": "AGqmapTF6-_x"
   },
   "outputs": [],
   "source": [
    "with zipfile.ZipFile('/tmp/glove.6B.zip', 'r') as zip_ref:\n",
    "    zip_ref.extractall('/tmp/glove')"
   ]
  },
  {
   "cell_type": "markdown",
   "metadata": {},
   "source": [
    "Loading previous cleaned dataset 'reviews_class.csv':"
   ]
  },
  {
   "cell_type": "code",
   "execution_count": null,
   "metadata": {
    "colab": {
     "base_uri": "https://localhost:8080/",
     "height": 206
    },
    "id": "f82_kFeqiwFc",
    "outputId": "0b675bbe-1e96-43e5-e2de-6b298e7c83c2"
   },
   "outputs": [
    {
     "data": {
      "text/html": [
       "<div>\n",
       "<style scoped>\n",
       "    .dataframe tbody tr th:only-of-type {\n",
       "        vertical-align: middle;\n",
       "    }\n",
       "\n",
       "    .dataframe tbody tr th {\n",
       "        vertical-align: top;\n",
       "    }\n",
       "\n",
       "    .dataframe thead th {\n",
       "        text-align: right;\n",
       "    }\n",
       "</style>\n",
       "<table border=\"1\" class=\"dataframe\">\n",
       "  <thead>\n",
       "    <tr style=\"text-align: right;\">\n",
       "      <th></th>\n",
       "      <th>Rating</th>\n",
       "      <th>Recommended</th>\n",
       "      <th>Review</th>\n",
       "      <th>Class</th>\n",
       "    </tr>\n",
       "  </thead>\n",
       "  <tbody>\n",
       "    <tr>\n",
       "      <th>0</th>\n",
       "      <td>4</td>\n",
       "      <td>1</td>\n",
       "      <td>Absolutely wonderful - silky and sexy and comf...</td>\n",
       "      <td>Positive</td>\n",
       "    </tr>\n",
       "    <tr>\n",
       "      <th>1</th>\n",
       "      <td>5</td>\n",
       "      <td>1</td>\n",
       "      <td>Love this dress!  it's sooo pretty.  i happene...</td>\n",
       "      <td>Positive</td>\n",
       "    </tr>\n",
       "    <tr>\n",
       "      <th>2</th>\n",
       "      <td>3</td>\n",
       "      <td>0</td>\n",
       "      <td>I had such high hopes for this dress and reall...</td>\n",
       "      <td>Neutral</td>\n",
       "    </tr>\n",
       "    <tr>\n",
       "      <th>3</th>\n",
       "      <td>5</td>\n",
       "      <td>1</td>\n",
       "      <td>I love, love, love this jumpsuit. it's fun, fl...</td>\n",
       "      <td>Positive</td>\n",
       "    </tr>\n",
       "    <tr>\n",
       "      <th>4</th>\n",
       "      <td>5</td>\n",
       "      <td>1</td>\n",
       "      <td>This shirt is very flattering to all due to th...</td>\n",
       "      <td>Positive</td>\n",
       "    </tr>\n",
       "  </tbody>\n",
       "</table>\n",
       "</div>"
      ],
      "text/plain": [
       "   Rating  ...     Class\n",
       "0       4  ...  Positive\n",
       "1       5  ...  Positive\n",
       "2       3  ...   Neutral\n",
       "3       5  ...  Positive\n",
       "4       5  ...  Positive\n",
       "\n",
       "[5 rows x 4 columns]"
      ]
     },
     "execution_count": 7,
     "metadata": {
      "tags": []
     },
     "output_type": "execute_result"
    }
   ],
   "source": [
    "df = pd.read_csv('reviews_class.csv', header=0,index_col=0)\n",
    "df.head()"
   ]
  },
  {
   "cell_type": "markdown",
   "metadata": {
    "id": "ltfs6MtgyLlp"
   },
   "source": [
    "## Data preparation\n",
    "\n",
    "Loading chosen variables: Review and Recommended."
   ]
  },
  {
   "cell_type": "code",
   "execution_count": null,
   "metadata": {
    "colab": {
     "base_uri": "https://localhost:8080/",
     "height": 206
    },
    "id": "R6PbjGmQiwFg",
    "outputId": "7363c2f8-d050-41ae-a860-356db3458516"
   },
   "outputs": [
    {
     "data": {
      "text/html": [
       "<div>\n",
       "<style scoped>\n",
       "    .dataframe tbody tr th:only-of-type {\n",
       "        vertical-align: middle;\n",
       "    }\n",
       "\n",
       "    .dataframe tbody tr th {\n",
       "        vertical-align: top;\n",
       "    }\n",
       "\n",
       "    .dataframe thead th {\n",
       "        text-align: right;\n",
       "    }\n",
       "</style>\n",
       "<table border=\"1\" class=\"dataframe\">\n",
       "  <thead>\n",
       "    <tr style=\"text-align: right;\">\n",
       "      <th></th>\n",
       "      <th>Review</th>\n",
       "      <th>Recommended</th>\n",
       "    </tr>\n",
       "  </thead>\n",
       "  <tbody>\n",
       "    <tr>\n",
       "      <th>0</th>\n",
       "      <td>Absolutely wonderful - silky and sexy and comf...</td>\n",
       "      <td>1</td>\n",
       "    </tr>\n",
       "    <tr>\n",
       "      <th>1</th>\n",
       "      <td>Love this dress!  it's sooo pretty.  i happene...</td>\n",
       "      <td>1</td>\n",
       "    </tr>\n",
       "    <tr>\n",
       "      <th>2</th>\n",
       "      <td>I had such high hopes for this dress and reall...</td>\n",
       "      <td>0</td>\n",
       "    </tr>\n",
       "    <tr>\n",
       "      <th>3</th>\n",
       "      <td>I love, love, love this jumpsuit. it's fun, fl...</td>\n",
       "      <td>1</td>\n",
       "    </tr>\n",
       "    <tr>\n",
       "      <th>4</th>\n",
       "      <td>This shirt is very flattering to all due to th...</td>\n",
       "      <td>1</td>\n",
       "    </tr>\n",
       "  </tbody>\n",
       "</table>\n",
       "</div>"
      ],
      "text/plain": [
       "                                              Review  Recommended\n",
       "0  Absolutely wonderful - silky and sexy and comf...            1\n",
       "1  Love this dress!  it's sooo pretty.  i happene...            1\n",
       "2  I had such high hopes for this dress and reall...            0\n",
       "3  I love, love, love this jumpsuit. it's fun, fl...            1\n",
       "4  This shirt is very flattering to all due to th...            1"
      ]
     },
     "execution_count": 8,
     "metadata": {
      "tags": []
     },
     "output_type": "execute_result"
    }
   ],
   "source": [
    "df = df[['Review', 'Recommended']]\n",
    "df.head()"
   ]
  },
  {
   "cell_type": "markdown",
   "metadata": {},
   "source": [
    "Rename of chosen variable:"
   ]
  },
  {
   "cell_type": "code",
   "execution_count": null,
   "metadata": {
    "colab": {
     "base_uri": "https://localhost:8080/",
     "height": 206
    },
    "id": "atvqOyVfww-a",
    "outputId": "c2f23894-64fe-4ec9-c739-918c84db3a7d"
   },
   "outputs": [
    {
     "data": {
      "text/html": [
       "<div>\n",
       "<style scoped>\n",
       "    .dataframe tbody tr th:only-of-type {\n",
       "        vertical-align: middle;\n",
       "    }\n",
       "\n",
       "    .dataframe tbody tr th {\n",
       "        vertical-align: top;\n",
       "    }\n",
       "\n",
       "    .dataframe thead th {\n",
       "        text-align: right;\n",
       "    }\n",
       "</style>\n",
       "<table border=\"1\" class=\"dataframe\">\n",
       "  <thead>\n",
       "    <tr style=\"text-align: right;\">\n",
       "      <th></th>\n",
       "      <th>Review</th>\n",
       "      <th>Sentiment</th>\n",
       "    </tr>\n",
       "  </thead>\n",
       "  <tbody>\n",
       "    <tr>\n",
       "      <th>0</th>\n",
       "      <td>Absolutely wonderful - silky and sexy and comf...</td>\n",
       "      <td>1</td>\n",
       "    </tr>\n",
       "    <tr>\n",
       "      <th>1</th>\n",
       "      <td>Love this dress!  it's sooo pretty.  i happene...</td>\n",
       "      <td>1</td>\n",
       "    </tr>\n",
       "    <tr>\n",
       "      <th>2</th>\n",
       "      <td>I had such high hopes for this dress and reall...</td>\n",
       "      <td>0</td>\n",
       "    </tr>\n",
       "    <tr>\n",
       "      <th>3</th>\n",
       "      <td>I love, love, love this jumpsuit. it's fun, fl...</td>\n",
       "      <td>1</td>\n",
       "    </tr>\n",
       "    <tr>\n",
       "      <th>4</th>\n",
       "      <td>This shirt is very flattering to all due to th...</td>\n",
       "      <td>1</td>\n",
       "    </tr>\n",
       "  </tbody>\n",
       "</table>\n",
       "</div>"
      ],
      "text/plain": [
       "                                              Review  Sentiment\n",
       "0  Absolutely wonderful - silky and sexy and comf...          1\n",
       "1  Love this dress!  it's sooo pretty.  i happene...          1\n",
       "2  I had such high hopes for this dress and reall...          0\n",
       "3  I love, love, love this jumpsuit. it's fun, fl...          1\n",
       "4  This shirt is very flattering to all due to th...          1"
      ]
     },
     "execution_count": 9,
     "metadata": {
      "tags": []
     },
     "output_type": "execute_result"
    }
   ],
   "source": [
    "text = df.rename(columns={\"Recommended\": \"Sentiment\"})\n",
    "text.head()"
   ]
  },
  {
   "cell_type": "markdown",
   "metadata": {},
   "source": [
    "**First observations**:"
   ]
  },
  {
   "cell_type": "code",
   "execution_count": null,
   "metadata": {
    "colab": {
     "base_uri": "https://localhost:8080/"
    },
    "id": "12UIk6IRiwFk",
    "outputId": "815b31a0-7939-44a5-e980-970db194c92e"
   },
   "outputs": [
    {
     "name": "stdout",
     "output_type": "stream",
     "text": [
      "<class 'pandas.core.frame.DataFrame'>\n",
      "Int64Index: 22641 entries, 0 to 23485\n",
      "Data columns (total 2 columns):\n",
      " #   Column     Non-Null Count  Dtype \n",
      "---  ------     --------------  ----- \n",
      " 0   Review     22641 non-null  object\n",
      " 1   Sentiment  22641 non-null  int64 \n",
      "dtypes: int64(1), object(1)\n",
      "memory usage: 530.6+ KB\n"
     ]
    }
   ],
   "source": [
    "text.info()"
   ]
  },
  {
   "cell_type": "markdown",
   "metadata": {},
   "source": [
    "Shape of data:"
   ]
  },
  {
   "cell_type": "code",
   "execution_count": null,
   "metadata": {
    "colab": {
     "base_uri": "https://localhost:8080/"
    },
    "id": "_1BLTZ3WiwFj",
    "outputId": "5bb24a68-4c75-4207-e5a3-1975beaa3aef"
   },
   "outputs": [
    {
     "data": {
      "text/plain": [
       "(22641, 2)"
      ]
     },
     "execution_count": 10,
     "metadata": {
      "tags": []
     },
     "output_type": "execute_result"
    }
   ],
   "source": [
    "text.shape"
   ]
  },
  {
   "cell_type": "markdown",
   "metadata": {},
   "source": [
    "Unique values for 'Sentiment' variable:"
   ]
  },
  {
   "cell_type": "code",
   "execution_count": null,
   "metadata": {
    "colab": {
     "base_uri": "https://localhost:8080/"
    },
    "id": "qS1U-rxHiwFo",
    "outputId": "7f4e48b1-b6ca-4a10-83c4-731e4fc333d0"
   },
   "outputs": [
    {
     "data": {
      "text/plain": [
       "1    18540\n",
       "0     4101\n",
       "Name: Sentiment, dtype: int64"
      ]
     },
     "execution_count": 13,
     "metadata": {
      "tags": []
     },
     "output_type": "execute_result"
    }
   ],
   "source": [
    "text['Sentiment'].value_counts()"
   ]
  },
  {
   "cell_type": "markdown",
   "metadata": {
    "id": "JlYeEKw82G3a"
   },
   "source": [
    "## Text data preparation\n",
    "\n",
    "Spliting the data into train and test sets:"
   ]
  },
  {
   "cell_type": "code",
   "execution_count": null,
   "metadata": {
    "id": "kIsK2H1HiwF5"
   },
   "outputs": [],
   "source": [
    "X = text['Review']\n",
    "y = text['Sentiment']\n",
    "\n",
    "X_train_sentences, X_test_sentences, y_train, y_test = train_test_split(X, y, test_size=0.2, random_state = 0)"
   ]
  },
  {
   "cell_type": "markdown",
   "metadata": {
    "id": "IyZV47F84VMT"
   },
   "source": [
    "#### Tokenizing the words:\n",
    "\n",
    "Cause the data are text it has to be converted into numerical form because the deep learning model expects it. To convert sentences into numerical representations I have used `Tokenizer` which removes punctuation marks and special characters and converts the sentence to lowercase letter. "
   ]
  },
  {
   "cell_type": "code",
   "execution_count": null,
   "metadata": {
    "id": "hMhxzpvm2IJr"
   },
   "outputs": [],
   "source": [
    "# Constants\n",
    "vocab_size=5000\n",
    "embedding_dim=16\n",
    "max_len=100\n",
    "trunction_type='post'\n",
    "padding_type='post'\n",
    "oov_token = \"<OOV>\""
   ]
  },
  {
   "cell_type": "code",
   "execution_count": null,
   "metadata": {
    "id": "NR0YAZmt4W3M"
   },
   "outputs": [],
   "source": [
    "tokenize = Tokenizer(num_words = vocab_size, oov_token=oov_token)\n",
    "tokenize.fit_on_texts(X_train_sentences)"
   ]
  },
  {
   "cell_type": "markdown",
   "metadata": {
    "id": "yNXQ219Y4vQk"
   },
   "source": [
    "The word index show how words are mapped into numbers:"
   ]
  },
  {
   "cell_type": "code",
   "execution_count": null,
   "metadata": {
    "id": "xqQ7HRjH4XAi"
   },
   "outputs": [],
   "source": [
    "word_index = tokenize.word_index"
   ]
  },
  {
   "cell_type": "markdown",
   "metadata": {
    "id": "V4C6Eizy0Kv_"
   },
   "source": [
    "By use `texts_to_sequences` from the tokenizer I convert the words into sequences so that a complete sequence of numbers can represent every sentence. "
   ]
  },
  {
   "cell_type": "code",
   "execution_count": null,
   "metadata": {
    "id": "5Nt-Y4_T-WNv"
   },
   "outputs": [],
   "source": [
    "X_train = tokenize.texts_to_sequences(X_train_sentences)\n",
    "X_test = tokenize.texts_to_sequences(X_test_sentences)"
   ]
  },
  {
   "cell_type": "code",
   "execution_count": null,
   "metadata": {
    "colab": {
     "base_uri": "https://localhost:8080/"
    },
    "id": "8Ffr0x9W-3vA",
    "outputId": "2137b0be-4515-4af8-b165-65a4914eadf6"
   },
   "outputs": [
    {
     "data": {
      "text/plain": [
       "[[197,\n",
       "  405,\n",
       "  63,\n",
       "  45,\n",
       "  35,\n",
       "  554,\n",
       "  964,\n",
       "  837,\n",
       "  263,\n",
       "  53,\n",
       "  23,\n",
       "  81,\n",
       "  3,\n",
       "  72,\n",
       "  2,\n",
       "  47,\n",
       "  4,\n",
       "  3,\n",
       "  39,\n",
       "  1206],\n",
       " [79, 53]]"
      ]
     },
     "execution_count": 31,
     "metadata": {
      "tags": []
     },
     "output_type": "execute_result"
    }
   ],
   "source": [
    "X_train[9:11]"
   ]
  },
  {
   "cell_type": "markdown",
   "metadata": {
    "id": "3VLOIF6Q65su"
   },
   "source": [
    "Now I add padding to the data by using `pad_sequences`function to make it uniform:"
   ]
  },
  {
   "cell_type": "code",
   "execution_count": null,
   "metadata": {
    "id": "lcQnbGpG_De0"
   },
   "outputs": [],
   "source": [
    "X_train_pad = pad_sequences(X_train,maxlen=max_len, padding=padding_type, \n",
    "                            truncating=trunction_type)\n",
    "\n",
    "X_test_pad = pad_sequences(X_test,maxlen=max_len, padding=padding_type, \n",
    "                           truncating=trunction_type)"
   ]
  },
  {
   "cell_type": "markdown",
   "metadata": {
    "id": "yRsgtzu6iwGG"
   },
   "source": [
    "### GloVe Embeddings\n",
    "\n",
    "In this step I use pre-trained word embeddings to create own embedding layer. Loading the Glove embeddings and append them to a dictionary. Then I use this dictionary to create an embedding matrix for each word in the training set. "
   ]
  },
  {
   "cell_type": "code",
   "execution_count": null,
   "metadata": {
    "colab": {
     "base_uri": "https://localhost:8080/"
    },
    "id": "WcVCWQDliwGH",
    "outputId": "9d97f098-a589-49ed-ee57-4f7e639f5153"
   },
   "outputs": [
    {
     "name": "stdout",
     "output_type": "stream",
     "text": [
      "Found 400000 word vectors.\n"
     ]
    }
   ],
   "source": [
    "embeddings_index = {}\n",
    "f = open('/tmp/glove/glove.6B.100d.txt')\n",
    "for line in f:\n",
    "    values = line.split()\n",
    "    word = values[0]\n",
    "    try:\n",
    "       coefs = np.asarray(values[1:], dtype='float32')\n",
    "       embeddings_index[word] = coefs\n",
    "    except ValueError:\n",
    "       pass\n",
    "f.close()\n",
    "\n",
    "print('Found %s word vectors.' % len(embeddings_index))"
   ]
  },
  {
   "cell_type": "code",
   "execution_count": null,
   "metadata": {
    "id": "Sm6OZObxiwGH"
   },
   "outputs": [],
   "source": [
    "num_words = len(word_index) + 1\n",
    "\n",
    "embedding_matrix = np.zeros((num_words, max_len))\n",
    "for word, i in word_index.items():\n",
    "    embedding_vector = embeddings_index.get(word) \n",
    "    if embedding_vector is not None:\n",
    "        # words not found in embedding index will be all-zeros.\n",
    "        embedding_matrix[i] = embedding_vector"
   ]
  },
  {
   "cell_type": "markdown",
   "metadata": {
    "id": "BYAoj9mfDOdL"
   },
   "source": [
    "Finally I create the embedding layer:"
   ]
  },
  {
   "cell_type": "code",
   "execution_count": null,
   "metadata": {
    "id": "oSZ0fmgBiwGH"
   },
   "outputs": [],
   "source": [
    "embedding_layer = Embedding(num_words,\n",
    "                            max_len,\n",
    "                            weights=[embedding_matrix],\n",
    "                            input_length=max_len,\n",
    "                            trainable=False)"
   ]
  },
  {
   "cell_type": "markdown",
   "metadata": {
    "id": "bdcAhZqiDf8X"
   },
   "source": [
    "## Build the model\n",
    "\n",
    "I create a model using embedding layer and Bidirectional LSTM layers. Bidirectional LSTMs are supported in Keras via the Bidirectional layer wrapper and it takes a recurrent layer (e.g. the first LSTM layer) as an argument.\n",
    "\n",
    "**Model 1**"
   ]
  },
  {
   "cell_type": "code",
   "execution_count": null,
   "metadata": {
    "colab": {
     "base_uri": "https://localhost:8080/"
    },
    "id": "tGZxZBh6iwGJ",
    "outputId": "592abdd2-f59a-4e71-ba87-ee41b451c23e"
   },
   "outputs": [
    {
     "name": "stdout",
     "output_type": "stream",
     "text": [
      "Model: \"sequential\"\n",
      "_________________________________________________________________\n",
      "Layer (type)                 Output Shape              Param #   \n",
      "=================================================================\n",
      "embedding (Embedding)        (None, 100, 100)          1343700   \n",
      "_________________________________________________________________\n",
      "bidirectional (Bidirectional (None, 100, 32)           14976     \n",
      "_________________________________________________________________\n",
      "bidirectional_1 (Bidirection (None, 32)                6272      \n",
      "_________________________________________________________________\n",
      "dense (Dense)                (None, 6)                 198       \n",
      "_________________________________________________________________\n",
      "dense_1 (Dense)              (None, 1)                 7         \n",
      "=================================================================\n",
      "Total params: 1,365,153\n",
      "Trainable params: 21,453\n",
      "Non-trainable params: 1,343,700\n",
      "_________________________________________________________________\n"
     ]
    }
   ],
   "source": [
    "model = Sequential([\n",
    "    embedding_layer,\n",
    "    Bidirectional(LSTM(embedding_dim, return_sequences=True)), \n",
    "    Bidirectional(LSTM(embedding_dim)),\n",
    "    Dense(6, activation='relu'),\n",
    "    Dense(1, activation='sigmoid')\n",
    "])\n",
    "\n",
    "model.compile(loss='binary_crossentropy',optimizer='adam',metrics=['accuracy'])\n",
    "\n",
    "model.summary()"
   ]
  },
  {
   "cell_type": "markdown",
   "metadata": {
    "id": "jyG1Kq8G78iz"
   },
   "source": [
    "Then I train the model for 10 epoch:"
   ]
  },
  {
   "cell_type": "code",
   "execution_count": null,
   "metadata": {
    "colab": {
     "base_uri": "https://localhost:8080/"
    },
    "id": "HD5QDScXDpoT",
    "outputId": "e3645ca5-7a6e-430a-a4f4-cc23ce33b1ab"
   },
   "outputs": [
    {
     "name": "stdout",
     "output_type": "stream",
     "text": [
      "Epoch 1/10\n",
      "566/566 [==============================] - 47s 76ms/step - loss: 0.4598 - accuracy: 0.8179 - val_loss: 0.4419 - val_accuracy: 0.8075\n",
      "Epoch 2/10\n",
      "566/566 [==============================] - 42s 73ms/step - loss: 0.3995 - accuracy: 0.8302 - val_loss: 0.3954 - val_accuracy: 0.8337\n",
      "Epoch 3/10\n",
      "566/566 [==============================] - 41s 72ms/step - loss: 0.3542 - accuracy: 0.8404 - val_loss: 0.3663 - val_accuracy: 0.8267\n",
      "Epoch 4/10\n",
      "566/566 [==============================] - 41s 73ms/step - loss: 0.3464 - accuracy: 0.8447 - val_loss: 0.3827 - val_accuracy: 0.8064\n",
      "Epoch 5/10\n",
      "566/566 [==============================] - 42s 74ms/step - loss: 0.3483 - accuracy: 0.8319 - val_loss: 0.3186 - val_accuracy: 0.8613\n",
      "Epoch 6/10\n",
      "566/566 [==============================] - 42s 75ms/step - loss: 0.3023 - accuracy: 0.8674 - val_loss: 0.3050 - val_accuracy: 0.8649\n",
      "Epoch 7/10\n",
      "566/566 [==============================] - 43s 76ms/step - loss: 0.2817 - accuracy: 0.8774 - val_loss: 0.2900 - val_accuracy: 0.8744\n",
      "Epoch 8/10\n",
      "566/566 [==============================] - 43s 75ms/step - loss: 0.2676 - accuracy: 0.8862 - val_loss: 0.2808 - val_accuracy: 0.8761\n",
      "Epoch 9/10\n",
      "566/566 [==============================] - 42s 75ms/step - loss: 0.2502 - accuracy: 0.8911 - val_loss: 0.2881 - val_accuracy: 0.8739\n",
      "Epoch 10/10\n",
      "566/566 [==============================] - 41s 73ms/step - loss: 0.2429 - accuracy: 0.8956 - val_loss: 0.2843 - val_accuracy: 0.8803\n"
     ]
    }
   ],
   "source": [
    "history = model.fit(X_train_pad, y_train,\n",
    "                    batch_size=32,\n",
    "                    epochs=10,\n",
    "                    validation_data=(X_test_pad, y_test),\n",
    "                    verbose=1)"
   ]
  },
  {
   "cell_type": "markdown",
   "metadata": {
    "id": "0G4YjehB6Dur"
   },
   "source": [
    "Predictions on a test set:"
   ]
  },
  {
   "cell_type": "code",
   "execution_count": null,
   "metadata": {
    "colab": {
     "base_uri": "https://localhost:8080/"
    },
    "id": "mZCgDZQtDpuZ",
    "outputId": "a76709fd-2c95-49b0-9194-ccbc4c122075"
   },
   "outputs": [
    {
     "name": "stdout",
     "output_type": "stream",
     "text": [
      "142/142 [==============================] - 3s 21ms/step - loss: 0.2843 - accuracy: 0.8803\n",
      "Test accuracy : 0.8803268074989319\n"
     ]
    }
   ],
   "source": [
    "loss, accuracy = model.evaluate(X_test_pad,y_test)\n",
    "print('Test accuracy :', accuracy)"
   ]
  },
  {
   "cell_type": "markdown",
   "metadata": {},
   "source": [
    "Visualization of training:"
   ]
  },
  {
   "cell_type": "code",
   "execution_count": null,
   "metadata": {
    "colab": {
     "base_uri": "https://localhost:8080/",
     "height": 544
    },
    "id": "szrloPlxDpyf",
    "outputId": "38b7340d-247b-42a1-e07d-634dfb3134e6"
   },
   "outputs": [
    {
     "data": {
      "image/png": "[encoded data removed]",
      "text/plain": [
       "<Figure size 432x288 with 1 Axes>"
      ]
     },
     "metadata": {
      "needs_background": "light",
      "tags": []
     },
     "output_type": "display_data"
    },
    {
     "data": {
      "image/png": "[encoded data removed]",
      "text/plain": [
       "<Figure size 432x288 with 1 Axes>"
      ]
     },
     "metadata": {
      "needs_background": "light",
      "tags": []
     },
     "output_type": "display_data"
    }
   ],
   "source": [
    "def plot_graphs(history, string):\n",
    "  plt.plot(history.history[string])\n",
    "  plt.plot(history.history['val_'+string])\n",
    "  plt.xlabel(\"Epochs\")\n",
    "  plt.ylabel(string)\n",
    "  plt.legend([string, 'val_'+string])\n",
    "  plt.show()\n",
    "  \n",
    "plot_graphs(history, \"accuracy\")\n",
    "plot_graphs(history, \"loss\")"
   ]
  },
  {
   "cell_type": "code",
   "execution_count": null,
   "metadata": {
    "id": "ULN3VM7NexNu"
   },
   "outputs": [],
   "source": [
    "# save the model\n",
    "model.save(\"sentiment_model.h5\")"
   ]
  },
  {
   "cell_type": "markdown",
   "metadata": {
    "id": "URf-oephHjQU"
   },
   "source": [
    "**Model 2**\n",
    "\n",
    "I also test a second model with a Dropout layer for decrease overfitting and increase number of epochs to 20:"
   ]
  },
  {
   "cell_type": "code",
   "execution_count": null,
   "metadata": {
    "colab": {
     "base_uri": "https://localhost:8080/"
    },
    "id": "gI3cAdVrf_y-",
    "outputId": "7c3a97bc-382a-47d8-e5ee-74b2a7ac4a08"
   },
   "outputs": [
    {
     "name": "stdout",
     "output_type": "stream",
     "text": [
      "Model: \"sequential_6\"\n",
      "_________________________________________________________________\n",
      "Layer (type)                 Output Shape              Param #   \n",
      "=================================================================\n",
      "embedding (Embedding)        (None, 100, 100)          1343700   \n",
      "_________________________________________________________________\n",
      "bidirectional_14 (Bidirectio (None, 100, 128)          84480     \n",
      "_________________________________________________________________\n",
      "bidirectional_15 (Bidirectio (None, 64)                41216     \n",
      "_________________________________________________________________\n",
      "dense_13 (Dense)             (None, 16)                1040      \n",
      "_________________________________________________________________\n",
      "dropout_4 (Dropout)          (None, 16)                0         \n",
      "_________________________________________________________________\n",
      "dense_14 (Dense)             (None, 1)                 17        \n",
      "=================================================================\n",
      "Total params: 1,470,453\n",
      "Trainable params: 126,753\n",
      "Non-trainable params: 1,343,700\n",
      "_________________________________________________________________\n"
     ]
    }
   ],
   "source": [
    "model2 = Sequential([\n",
    "    embedding_layer,\n",
    "    Bidirectional(LSTM(64, return_sequences=True)), \n",
    "    Bidirectional(LSTM(32)),\n",
    "    Dense(16, activation='relu'),\n",
    "    Dropout(0.5),\n",
    "    Dense(1, activation='sigmoid')\n",
    "])\n",
    "\n",
    "optimizer = tf.keras.optimizers.Adam(lr=1e-4)\n",
    "model2.compile(loss='binary_crossentropy', \n",
    "               optimizer=optimizer,\n",
    "               metrics=['accuracy'])\n",
    "\n",
    "model2.summary()"
   ]
  },
  {
   "cell_type": "code",
   "execution_count": null,
   "metadata": {
    "id": "7qJwNUOQJOcC"
   },
   "outputs": [],
   "source": [
    "callbacks = EarlyStopping(monitor = 'val_accuracy', \n",
    "                          mode = 'max', \n",
    "                          patience = 10,\n",
    "                          verbose = 1)"
   ]
  },
  {
   "cell_type": "code",
   "execution_count": null,
   "metadata": {
    "colab": {
     "base_uri": "https://localhost:8080/"
    },
    "id": "uztzED5_f_u8",
    "outputId": "4f7faac4-5ccd-4ccb-8896-71c01ad88687"
   },
   "outputs": [
    {
     "name": "stdout",
     "output_type": "stream",
     "text": [
      "Epoch 1/20\n",
      "566/566 [==============================] - 92s 152ms/step - loss: 0.5288 - accuracy: 0.7981 - val_loss: 0.4305 - val_accuracy: 0.8064\n",
      "Epoch 2/20\n",
      "566/566 [==============================] - 85s 150ms/step - loss: 0.4186 - accuracy: 0.8241 - val_loss: 0.3872 - val_accuracy: 0.8159\n",
      "Epoch 3/20\n",
      "566/566 [==============================] - 85s 150ms/step - loss: 0.3853 - accuracy: 0.8362 - val_loss: 0.3736 - val_accuracy: 0.8359\n",
      "Epoch 4/20\n",
      "566/566 [==============================] - 85s 150ms/step - loss: 0.3608 - accuracy: 0.8461 - val_loss: 0.3710 - val_accuracy: 0.8306\n",
      "Epoch 5/20\n",
      "566/566 [==============================] - 85s 150ms/step - loss: 0.3556 - accuracy: 0.8499 - val_loss: 0.3461 - val_accuracy: 0.8488\n",
      "Epoch 6/20\n",
      "566/566 [==============================] - 85s 149ms/step - loss: 0.3325 - accuracy: 0.8602 - val_loss: 0.3241 - val_accuracy: 0.8589\n",
      "Epoch 7/20\n",
      "566/566 [==============================] - 85s 150ms/step - loss: 0.3204 - accuracy: 0.8626 - val_loss: 0.3182 - val_accuracy: 0.8613\n",
      "Epoch 8/20\n",
      "566/566 [==============================] - 85s 150ms/step - loss: 0.3179 - accuracy: 0.8642 - val_loss: 0.3156 - val_accuracy: 0.8616\n",
      "Epoch 9/20\n",
      "566/566 [==============================] - 85s 150ms/step - loss: 0.3040 - accuracy: 0.8740 - val_loss: 0.3094 - val_accuracy: 0.8651\n",
      "Epoch 10/20\n",
      "566/566 [==============================] - 85s 151ms/step - loss: 0.2948 - accuracy: 0.8754 - val_loss: 0.3162 - val_accuracy: 0.8662\n",
      "Epoch 11/20\n",
      "566/566 [==============================] - 85s 150ms/step - loss: 0.3031 - accuracy: 0.8713 - val_loss: 0.3011 - val_accuracy: 0.8664\n",
      "Epoch 12/20\n",
      "566/566 [==============================] - 85s 150ms/step - loss: 0.2882 - accuracy: 0.8741 - val_loss: 0.2977 - val_accuracy: 0.8691\n",
      "Epoch 13/20\n",
      "566/566 [==============================] - 85s 150ms/step - loss: 0.2766 - accuracy: 0.8824 - val_loss: 0.3008 - val_accuracy: 0.8666\n",
      "Epoch 14/20\n",
      "566/566 [==============================] - 85s 150ms/step - loss: 0.2804 - accuracy: 0.8819 - val_loss: 0.2917 - val_accuracy: 0.8704\n",
      "Epoch 15/20\n",
      "566/566 [==============================] - 85s 150ms/step - loss: 0.2697 - accuracy: 0.8866 - val_loss: 0.3006 - val_accuracy: 0.8691\n",
      "Epoch 16/20\n",
      "566/566 [==============================] - 85s 150ms/step - loss: 0.2721 - accuracy: 0.8833 - val_loss: 0.3165 - val_accuracy: 0.8638\n",
      "Epoch 17/20\n",
      "566/566 [==============================] - 82s 144ms/step - loss: 0.2685 - accuracy: 0.8872 - val_loss: 0.2926 - val_accuracy: 0.8741\n",
      "Epoch 18/20\n",
      "566/566 [==============================] - 79s 139ms/step - loss: 0.2511 - accuracy: 0.8910 - val_loss: 0.2867 - val_accuracy: 0.8724\n",
      "Epoch 19/20\n",
      "566/566 [==============================] - 79s 140ms/step - loss: 0.2682 - accuracy: 0.8896 - val_loss: 0.2865 - val_accuracy: 0.8719\n",
      "Epoch 20/20\n",
      "566/566 [==============================] - 78s 137ms/step - loss: 0.2434 - accuracy: 0.8948 - val_loss: 0.2887 - val_accuracy: 0.8752\n"
     ]
    }
   ],
   "source": [
    "history2 = model2.fit(X_train_pad, y_train,\n",
    "                    batch_size=32,\n",
    "                    epochs=20,\n",
    "                    validation_data=(X_test_pad, y_test),\n",
    "                    verbose=1,\n",
    "                    callbacks=callbacks)"
   ]
  },
  {
   "cell_type": "markdown",
   "metadata": {
    "id": "qzNXAOga7XHR"
   },
   "source": [
    "Predictions:"
   ]
  },
  {
   "cell_type": "code",
   "execution_count": null,
   "metadata": {
    "colab": {
     "base_uri": "https://localhost:8080/"
    },
    "id": "JLeI5Apzf_o8",
    "outputId": "a1ae6d19-d408-4879-b3f7-064e6283e35f"
   },
   "outputs": [
    {
     "name": "stdout",
     "output_type": "stream",
     "text": [
      "142/142 [==============================] - 5s 37ms/step - loss: 0.2887 - accuracy: 0.8752\n",
      "Test accuracy : 0.875248372554779\n"
     ]
    }
   ],
   "source": [
    "loss, accuracy = model2.evaluate(X_test_pad,y_test)\n",
    "print('Test accuracy :', accuracy)"
   ]
  },
  {
   "cell_type": "markdown",
   "metadata": {},
   "source": [
    "Visualization of training:"
   ]
  },
  {
   "cell_type": "code",
   "execution_count": null,
   "metadata": {
    "colab": {
     "base_uri": "https://localhost:8080/",
     "height": 541
    },
    "id": "HxYIdfwlnfNd",
    "outputId": "27d9f17a-73c6-42a7-af8a-4cd4cc7ea08e"
   },
   "outputs": [
    {
     "data": {
      "image/png": "[encoded data removed]",
      "text/plain": [
       "<Figure size 432x288 with 1 Axes>"
      ]
     },
     "metadata": {
      "needs_background": "light",
      "tags": []
     },
     "output_type": "display_data"
    },
    {
     "data": {
      "image/png": "[encoded data removed]",
      "text/plain": [
       "<Figure size 432x288 with 1 Axes>"
      ]
     },
     "metadata": {
      "needs_background": "light",
      "tags": []
     },
     "output_type": "display_data"
    }
   ],
   "source": [
    "plot_graphs(history2, \"accuracy\")\n",
    "plot_graphs(history2, \"loss\")"
   ]
  },
  {
   "cell_type": "markdown",
   "metadata": {
    "id": "VhEgsIGa8DKt"
   },
   "source": [
    "## Summary\n",
    "\n",
    "In this project I have used a pre-trained Glove word embeddings with Bidirectional LSTM Neural Network to resolve classification problem. After trained two models I have achieved an accuracy on the test set 88 % and it is a good result in comparison to previous Machine Learning models that I have used (e.g. Logistic Regression, Random Forest)."
   ]
  }
 ],
 "metadata": {
  "colab": {
   "collapsed_sections": [],
   "name": "Sentiment_glove.ipynb",
   "provenance": []
  },
  "kernelspec": {
   "display_name": "Python 3 (ipykernel)",
   "language": "python",
   "name": "python3"
  },
  "language_info": {
   "codemirror_mode": {
    "name": "ipython",
    "version": 3
   },
   "file_extension": ".py",
   "mimetype": "text/x-python",
   "name": "python",
   "nbconvert_exporter": "python",
   "pygments_lexer": "ipython3",
   "version": "3.12.4"
  }
 },
 "nbformat": 4,
 "nbformat_minor": 4
}
